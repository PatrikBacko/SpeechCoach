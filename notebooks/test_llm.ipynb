{
 "cells": [
  {
   "cell_type": "code",
   "execution_count": 48,
   "id": "5b7280de",
   "metadata": {},
   "outputs": [
    {
     "data": {
      "application/vnd.jupyter.widget-view+json": {
       "model_id": "83234b9b3852491881ef1459eb7e849e",
       "version_major": 2,
       "version_minor": 0
      },
      "text/plain": [
       "Loading checkpoint shards:   0%|          | 0/2 [00:00<?, ?it/s]"
      ]
     },
     "metadata": {},
     "output_type": "display_data"
    }
   ],
   "source": [
    "import torch\n",
    "from transformers import AutoModelForCausalLM, AutoTokenizer, pipeline\n",
    " \n",
    "\n",
    "model_path = \"microsoft/Phi-4-mini-instruct\"\n",
    "\n",
    "model = AutoModelForCausalLM.from_pretrained(\n",
    "    model_path,\n",
    "    device_map=\"cuda\",\n",
    "    torch_dtype=\"auto\",\n",
    "    trust_remote_code=True,\n",
    ")\n",
    "tokenizer = AutoTokenizer.from_pretrained(model_path)\n",
    "\n",
    "# messages = [\n",
    "#     {\"role\": \"system\", \"content\": \"You are a helpful AI assistant.\"},\n",
    "#     {\"role\": \"user\", \"content\": \"Can you provide ways to eat combinations of bananas and dragonfruits?\"},\n",
    "#     {\"role\": \"assistant\", \"content\": \"Sure! Here are some ways to eat bananas and dragonfruits together: 1. Banana and dragonfruit smoothie: Blend bananas and dragonfruits together with some milk and honey. 2. Banana and dragonfruit salad: Mix sliced bananas and dragonfruits together with some lemon juice and honey.\"},\n",
    "#     {\"role\": \"user\", \"content\": \"What about solving an 2x + 3 = 7 equation?\"},\n",
    "# ]\n"
   ]
  },
  {
   "cell_type": "code",
   "execution_count": 49,
   "id": "112e6924",
   "metadata": {},
   "outputs": [
    {
     "name": "stderr",
     "output_type": "stream",
     "text": [
      "Device set to use cuda\n"
     ]
    },
    {
     "name": "stdout",
     "output_type": "stream",
     "text": [
      "Despite the constant rain, the children played outside, their laughter echoing through the sound of splashing water.\n"
     ]
    }
   ],
   "source": [
    "messages = [\n",
    "    {\"role\": \"system\", \"content\": \"You are a worker in an English pronunciation education application. \"\n",
    "                                  \"Generate only one medium-sized sentence in English with arbitrary topic. \"\n",
    "                                  \"Do not include explanations, instructions, or anything else. Output only the sentence.\"},\n",
    "]\n",
    "pipe = pipeline(\n",
    "    \"text-generation\",\n",
    "    model=model,\n",
    "    tokenizer=tokenizer,\n",
    ")\n",
    "\n",
    "generation_args = {\n",
    "    \"max_new_tokens\": 500,\n",
    "    \"return_full_text\": False,\n",
    "    \"temperature\": 1.0,\n",
    "    \"do_sample\": True,\n",
    "}\n",
    "\n",
    "output = pipe(messages, **generation_args)\n",
    "print(output[0]['generated_text'])"
   ]
  },
  {
   "cell_type": "code",
   "execution_count": 50,
   "id": "d3a6cc92",
   "metadata": {},
   "outputs": [],
   "source": [
    "sentence = \"The cat was on the roof.\"\n",
    "mistake_word = \"cat\"\n",
    "incorrect_pronunciation = \"cut\""
   ]
  },
  {
   "cell_type": "code",
   "execution_count": null,
   "id": "5b212149",
   "metadata": {},
   "outputs": [
    {
     "name": "stderr",
     "output_type": "stream",
     "text": [
      "Device set to use cuda\n"
     ]
    },
    {
     "name": "stdout",
     "output_type": "stream",
     "text": [
      "The correct word is \"cat,\" not \"cut.\" To pronounce \"cat,\" you should say /kæt/. Here's a tip: Start with a soft 'k' sound, like the 'k' in \"kite,\" followed by the short 'a' as in \"apple,\" and end with a short 't' sound, like the 't' in \"top.\" Keep your mouth relaxed, and let the sound come from your throat. Great job! Keep practicing, and you'll get it right!\n"
     ]
    }
   ],
   "source": [
    "messages = [\n",
    "    {\"role\": \"system\", \"content\": \"You are a helpful pronunciation assistant. \" \n",
    "                                  \"Your task is to help users improve their pronunciation by: \"\n",
    "                                  \"- Identifying the difference between the correct word and what the user said incorrectly. \"\n",
    "                                  \"- Explaining how the correct word should be pronounced, using simple phonetic hints or IPA (International Phonetic Alphabet). \"\n",
    "                                  \"- Giving a short, clear tip on how to shape the mouth, tongue, or voice to pronounce correctly. \"\n",
    "                                  \"- Keeping explanations concise, supportive, and easy to follow. \"\n",
    "                                  \"Always respond in a friendly, encouraging way. \"\n",
    "                                  \"Do not overwhelm the user with long linguistic theory — focus on practical help. \"\n",
    "                                  f\"Sentence: {sentence} \"\n",
    "                                  f\"Mistake: {mistake_word} -> {incorrect_pronunciation} \"\n",
    "                                  f\"Please help to the user: \"\n",
    "    },\n",
    "]\n",
    "\n",
    "pipe = pipeline(\n",
    "    \"text-generation\",\n",
    "    model=model,\n",
    "    tokenizer=tokenizer,\n",
    ")\n",
    "\n",
    "generation_args = {\n",
    "    \"max_new_tokens\": 500,\n",
    "    \"return_full_text\": False,\n",
    "    \"temperature\": 1.0,\n",
    "    \"do_sample\": False,\n",
    "}\n",
    "\n",
    "output = pipe(messages, **generation_args)\n",
    "print(output[0]['generated_text'])"
   ]
  }
 ],
 "metadata": {
  "kernelspec": {
   "display_name": "Python 3 (ipykernel)",
   "language": "python",
   "name": "python3"
  },
  "language_info": {
   "codemirror_mode": {
    "name": "ipython",
    "version": 3
   },
   "file_extension": ".py",
   "mimetype": "text/x-python",
   "name": "python",
   "nbconvert_exporter": "python",
   "pygments_lexer": "ipython3",
   "version": "3.12.11"
  }
 },
 "nbformat": 4,
 "nbformat_minor": 5
}
